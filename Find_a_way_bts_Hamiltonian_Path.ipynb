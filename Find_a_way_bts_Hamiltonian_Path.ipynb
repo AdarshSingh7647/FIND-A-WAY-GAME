{
 "cells": [
  {
   "cell_type": "code",
   "execution_count": 2,
   "metadata": {},
   "outputs": [],
   "source": [
    "# class to represent a graph object\n",
    "class Graph:\n",
    " \n",
    "    # Graph Constructor taking in edges and vertices\n",
    "    def __init__(self, edges, vertices):\n",
    " \n",
    "        # A List of Lists to represent an adjacency list\n",
    "        self.adjacencyList = [[] for _ in range(vertices)]\n",
    " \n",
    "        # add edges to the undirected graph\n",
    "        for (source, destination) in edges:\n",
    "            self.adjacencyList[source].append(destination)\n",
    "            self.adjacencyList[destination].append(source)\n",
    " \n",
    " \n",
    "def printAllHamiltonianPaths(g, v, visited, path, vertices):\n",
    " \n",
    "    # if all the vertices are visited, then hamiltonian path exists\n",
    "    if len(path) == vertices:\n",
    "        # print hamiltonian path\n",
    "        print(path)\n",
    "        return \n",
    " \n",
    "    # Check if every edge starting from vertex v leads to a solution or not\n",
    "    for w in g.adjacencyList[v]:\n",
    " \n",
    "        # process only unvisited vertices as hamiltonian\n",
    "        # path visits each vertex exactly once\n",
    "        if not visited[w]:\n",
    "            visited[w] = True\n",
    "            path.append(w)\n",
    " \n",
    "            # check if adding vertex w to the path leads to solution or not\n",
    "            printAllHamiltonianPaths(g, w, visited, path, vertices)\n",
    " \n",
    "            # Backtrack\n",
    "            visited[w] = False\n",
    "            path.pop()"
   ]
  },
  {
   "cell_type": "code",
   "execution_count": null,
   "metadata": {},
   "outputs": [],
   "source": []
  }
 ],
 "metadata": {
  "kernelspec": {
   "display_name": "Python 3",
   "language": "python",
   "name": "python3"
  },
  "language_info": {
   "codemirror_mode": {
    "name": "ipython",
    "version": 3
   },
   "file_extension": ".py",
   "mimetype": "text/x-python",
   "name": "python",
   "nbconvert_exporter": "python",
   "pygments_lexer": "ipython3",
   "version": "3.8.3"
  }
 },
 "nbformat": 4,
 "nbformat_minor": 4
}
